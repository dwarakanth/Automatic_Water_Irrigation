{
 "cells": [
  {
   "cell_type": "code",
   "execution_count": 1,
   "id": "1a15c77b",
   "metadata": {},
   "outputs": [],
   "source": [
    "import pandas as pd\n",
    "from sklearn.metrics import classification_report, accuracy_score\n",
    "import numpy as np\n",
    "import matplotlib.pyplot as plt\n",
    "import seaborn as sns\n",
    "from sklearn.model_selection import train_test_split\n",
    "from sklearn.ensemble import RandomForestClassifier\n",
    "from sklearn.metrics import classification_report\n",
    "from sklearn.ensemble import RandomForestClassifier\n",
    "from sklearn.linear_model import LogisticRegression\n",
    "from sklearn.svm import SVC\n",
    "import warnings\n",
    "warnings.simplefilter(\"ignore\")\n"
   ]
  },
  {
   "cell_type": "code",
   "execution_count": 2,
   "id": "02d269fb",
   "metadata": {},
   "outputs": [],
   "source": [
    "data = pd.read_csv(r\"C:AWS-Dataset.csv\")"
   ]
  },
  {
   "cell_type": "code",
   "execution_count": 3,
   "id": "f2dc6ae5",
   "metadata": {},
   "outputs": [
    {
     "data": {
      "text/html": [
       "<div>\n",
       "<style scoped>\n",
       "    .dataframe tbody tr th:only-of-type {\n",
       "        vertical-align: middle;\n",
       "    }\n",
       "\n",
       "    .dataframe tbody tr th {\n",
       "        vertical-align: top;\n",
       "    }\n",
       "\n",
       "    .dataframe thead th {\n",
       "        text-align: right;\n",
       "    }\n",
       "</style>\n",
       "<table border=\"1\" class=\"dataframe\">\n",
       "  <thead>\n",
       "    <tr style=\"text-align: right;\">\n",
       "      <th></th>\n",
       "      <th>Soil Moisture</th>\n",
       "      <th>Temperature</th>\n",
       "      <th>Soil Humidity</th>\n",
       "      <th>Time</th>\n",
       "      <th>Air temperature (C)</th>\n",
       "      <th>Wind speed (Km/h)</th>\n",
       "      <th>Air humidity (%)</th>\n",
       "      <th>Wind gust (Km/h)</th>\n",
       "      <th>Pressure (KPa)</th>\n",
       "      <th>ph</th>\n",
       "      <th>rainfall</th>\n",
       "      <th>N</th>\n",
       "      <th>P</th>\n",
       "      <th>K</th>\n",
       "      <th>Status</th>\n",
       "    </tr>\n",
       "  </thead>\n",
       "  <tbody>\n",
       "    <tr>\n",
       "      <th>0</th>\n",
       "      <td>54</td>\n",
       "      <td>22</td>\n",
       "      <td>70</td>\n",
       "      <td>21</td>\n",
       "      <td>19.52</td>\n",
       "      <td>2.13</td>\n",
       "      <td>55.04</td>\n",
       "      <td>6.30</td>\n",
       "      <td>101.50</td>\n",
       "      <td>6.502985</td>\n",
       "      <td>202.935536</td>\n",
       "      <td>90.0</td>\n",
       "      <td>42.0</td>\n",
       "      <td>43.0</td>\n",
       "      <td>ON</td>\n",
       "    </tr>\n",
       "    <tr>\n",
       "      <th>1</th>\n",
       "      <td>12</td>\n",
       "      <td>20</td>\n",
       "      <td>40</td>\n",
       "      <td>104</td>\n",
       "      <td>19.49</td>\n",
       "      <td>2.01</td>\n",
       "      <td>55.17</td>\n",
       "      <td>10.46</td>\n",
       "      <td>101.50</td>\n",
       "      <td>7.038096</td>\n",
       "      <td>226.655537</td>\n",
       "      <td>85.0</td>\n",
       "      <td>58.0</td>\n",
       "      <td>41.0</td>\n",
       "      <td>OFF</td>\n",
       "    </tr>\n",
       "    <tr>\n",
       "      <th>2</th>\n",
       "      <td>34</td>\n",
       "      <td>26</td>\n",
       "      <td>35</td>\n",
       "      <td>62</td>\n",
       "      <td>19.47</td>\n",
       "      <td>1.90</td>\n",
       "      <td>55.30</td>\n",
       "      <td>14.63</td>\n",
       "      <td>101.51</td>\n",
       "      <td>7.840207</td>\n",
       "      <td>263.964248</td>\n",
       "      <td>60.0</td>\n",
       "      <td>55.0</td>\n",
       "      <td>44.0</td>\n",
       "      <td>ON</td>\n",
       "    </tr>\n",
       "    <tr>\n",
       "      <th>3</th>\n",
       "      <td>7</td>\n",
       "      <td>44</td>\n",
       "      <td>44</td>\n",
       "      <td>93</td>\n",
       "      <td>19.54</td>\n",
       "      <td>2.28</td>\n",
       "      <td>54.20</td>\n",
       "      <td>16.08</td>\n",
       "      <td>101.51</td>\n",
       "      <td>6.980401</td>\n",
       "      <td>242.864034</td>\n",
       "      <td>74.0</td>\n",
       "      <td>35.0</td>\n",
       "      <td>40.0</td>\n",
       "      <td>OFF</td>\n",
       "    </tr>\n",
       "    <tr>\n",
       "      <th>4</th>\n",
       "      <td>50</td>\n",
       "      <td>38</td>\n",
       "      <td>23</td>\n",
       "      <td>92</td>\n",
       "      <td>19.61</td>\n",
       "      <td>2.66</td>\n",
       "      <td>53.09</td>\n",
       "      <td>17.52</td>\n",
       "      <td>101.51</td>\n",
       "      <td>7.628473</td>\n",
       "      <td>262.717340</td>\n",
       "      <td>78.0</td>\n",
       "      <td>42.0</td>\n",
       "      <td>42.0</td>\n",
       "      <td>OFF</td>\n",
       "    </tr>\n",
       "  </tbody>\n",
       "</table>\n",
       "</div>"
      ],
      "text/plain": [
       "   Soil Moisture  Temperature   Soil Humidity  Time  Air temperature (C)  \\\n",
       "0             54           22              70    21                19.52   \n",
       "1             12           20              40   104                19.49   \n",
       "2             34           26              35    62                19.47   \n",
       "3              7           44              44    93                19.54   \n",
       "4             50           38              23    92                19.61   \n",
       "\n",
       "   Wind speed (Km/h)  Air humidity (%)  Wind gust (Km/h)  Pressure (KPa)  \\\n",
       "0               2.13             55.04              6.30          101.50   \n",
       "1               2.01             55.17             10.46          101.50   \n",
       "2               1.90             55.30             14.63          101.51   \n",
       "3               2.28             54.20             16.08          101.51   \n",
       "4               2.66             53.09             17.52          101.51   \n",
       "\n",
       "         ph    rainfall     N     P     K Status  \n",
       "0  6.502985  202.935536  90.0  42.0  43.0     ON  \n",
       "1  7.038096  226.655537  85.0  58.0  41.0    OFF  \n",
       "2  7.840207  263.964248  60.0  55.0  44.0     ON  \n",
       "3  6.980401  242.864034  74.0  35.0  40.0    OFF  \n",
       "4  7.628473  262.717340  78.0  42.0  42.0    OFF  "
      ]
     },
     "execution_count": 3,
     "metadata": {},
     "output_type": "execute_result"
    }
   ],
   "source": [
    "data.head(5)"
   ]
  },
  {
   "cell_type": "code",
   "execution_count": 4,
   "id": "9a990f3a",
   "metadata": {},
   "outputs": [
    {
     "name": "stdout",
     "output_type": "stream",
     "text": [
      "<class 'pandas.core.frame.DataFrame'>\n",
      "RangeIndex: 100000 entries, 0 to 99999\n",
      "Data columns (total 15 columns):\n",
      " #   Column               Non-Null Count   Dtype  \n",
      "---  ------               --------------   -----  \n",
      " 0   Soil Moisture        100000 non-null  int64  \n",
      " 1   Temperature          100000 non-null  int64  \n",
      " 2    Soil Humidity       100000 non-null  int64  \n",
      " 3   Time                 100000 non-null  int64  \n",
      " 4   Air temperature (C)  23995 non-null   float64\n",
      " 5   Wind speed (Km/h)    23995 non-null   float64\n",
      " 6   Air humidity (%)     23995 non-null   float64\n",
      " 7   Wind gust (Km/h)     23995 non-null   float64\n",
      " 8   Pressure (KPa)       23995 non-null   float64\n",
      " 9   ph                   2200 non-null    float64\n",
      " 10  rainfall             2200 non-null    float64\n",
      " 11  N                    2200 non-null    float64\n",
      " 12  P                    2200 non-null    float64\n",
      " 13  K                    2200 non-null    float64\n",
      " 14  Status               100000 non-null  object \n",
      "dtypes: float64(10), int64(4), object(1)\n",
      "memory usage: 11.4+ MB\n"
     ]
    }
   ],
   "source": [
    "data.info()"
   ]
  },
  {
   "cell_type": "code",
   "execution_count": 5,
   "id": "1bfab2c0",
   "metadata": {},
   "outputs": [
    {
     "data": {
      "image/png": "[encoded data removed]",
      "text/plain": [
       "<Figure size 800x600 with 1 Axes>"
      ]
     },
     "metadata": {},
     "output_type": "display_data"
    }
   ],
   "source": [
    "# CountPlot for TargetAttribute(Motor ON and OFF) \n",
    "plt.figure(figsize=(8, 6))\n",
    "sns.countplot(x='Status', data=data)\n",
    "plt.title('Count of Motor Status (ON vs OFF)')\n",
    "plt.xlabel('Status')\n",
    "plt.ylabel('Count')\n",
    "plt.show()"
   ]
  },
  {
   "cell_type": "code",
   "execution_count": 6,
   "id": "0d5644d6",
   "metadata": {},
   "outputs": [
    {
     "data": {
      "image/png": "[encoded data removed]",
      "text/plain": [
       "<Figure size 800x600 with 1 Axes>"
      ]
     },
     "metadata": {},
     "output_type": "display_data"
    }
   ],
   "source": [
    "plt.figure(figsize=(8, 6))\n",
    "sns.barplot(x='Status', y='Soil Moisture', data=data, estimator=sum)  # Use estimator to summarize values\n",
    "plt.title('Average Soil Moisture by Motor Status')\n",
    "plt.xlabel('Status')\n",
    "plt.ylabel('Average Soil Moisture')\n",
    "plt.show()"
   ]
  },
  {
   "cell_type": "code",
   "execution_count": 7,
   "id": "a51029b9",
   "metadata": {},
   "outputs": [
    {
     "data": {
      "text/plain": [
       "Text(0, 0.5, 'Average Temperature')"
      ]
     },
     "execution_count": 7,
     "metadata": {},
     "output_type": "execute_result"
    },
    {
     "data": {
      "image/png": "[encoded data removed]",
      "text/plain": [
       "<Figure size 640x480 with 1 Axes>"
      ]
     },
     "metadata": {},
     "output_type": "display_data"
    }
   ],
   "source": [
    "# Bar plot for Temperature and Status\n",
    "plt.subplot(1, 2, 1)  # 1 row, 2 columns, 1st subplot\n",
    "sns.barplot(x='Status', y='Temperature', data=data, estimator='mean')\n",
    "plt.title('Average Temperature by Motor Status')\n",
    "plt.xlabel('Status')\n",
    "plt.ylabel('Average Temperature')"
   ]
  },
  {
   "cell_type": "code",
   "execution_count": 8,
   "id": "57cbc0d5",
   "metadata": {},
   "outputs": [
    {
     "data": {
      "text/plain": [
       "Text(0, 0.5, 'Average Air Humidity (%)')"
      ]
     },
     "execution_count": 8,
     "metadata": {},
     "output_type": "execute_result"
    },
    {
     "data": {
      "image/png": "[encoded data removed]",
      "text/plain": [
       "<Figure size 640x480 with 1 Axes>"
      ]
     },
     "metadata": {},
     "output_type": "display_data"
    }
   ],
   "source": [
    "plt.subplot(1, 2, 2)  # 1 row, 2 columns, 2nd subplot\n",
    "sns.barplot(x='Status', y='Air humidity (%)', data=data, estimator='mean')\n",
    "plt.title('Average Air Humidity by Motor Status')\n",
    "plt.xlabel('Status')\n",
    "plt.ylabel('Average Air Humidity (%)')"
   ]
  },
  {
   "cell_type": "code",
   "execution_count": 9,
   "id": "cdc71424-48e8-40ab-bcf9-1fa3183277da",
   "metadata": {},
   "outputs": [
    {
     "data": {
      "text/html": [
       "<div>\n",
       "<style scoped>\n",
       "    .dataframe tbody tr th:only-of-type {\n",
       "        vertical-align: middle;\n",
       "    }\n",
       "\n",
       "    .dataframe tbody tr th {\n",
       "        vertical-align: top;\n",
       "    }\n",
       "\n",
       "    .dataframe thead th {\n",
       "        text-align: right;\n",
       "    }\n",
       "</style>\n",
       "<table border=\"1\" class=\"dataframe\">\n",
       "  <thead>\n",
       "    <tr style=\"text-align: right;\">\n",
       "      <th></th>\n",
       "      <th>Soil Moisture</th>\n",
       "      <th>Temperature</th>\n",
       "      <th>Air Humidity (%)</th>\n",
       "      <th>Status</th>\n",
       "    </tr>\n",
       "  </thead>\n",
       "  <tbody>\n",
       "    <tr>\n",
       "      <th>0</th>\n",
       "      <td>85.28</td>\n",
       "      <td>37.52</td>\n",
       "      <td>60.56</td>\n",
       "      <td>ON</td>\n",
       "    </tr>\n",
       "    <tr>\n",
       "      <th>1</th>\n",
       "      <td>58.00</td>\n",
       "      <td>28.98</td>\n",
       "      <td>71.83</td>\n",
       "      <td>ON</td>\n",
       "    </tr>\n",
       "    <tr>\n",
       "      <th>2</th>\n",
       "      <td>69.57</td>\n",
       "      <td>35.96</td>\n",
       "      <td>59.78</td>\n",
       "      <td>ON</td>\n",
       "    </tr>\n",
       "    <tr>\n",
       "      <th>3</th>\n",
       "      <td>94.82</td>\n",
       "      <td>41.53</td>\n",
       "      <td>60.77</td>\n",
       "      <td>ON</td>\n",
       "    </tr>\n",
       "    <tr>\n",
       "      <th>4</th>\n",
       "      <td>87.35</td>\n",
       "      <td>41.04</td>\n",
       "      <td>46.68</td>\n",
       "      <td>ON</td>\n",
       "    </tr>\n",
       "    <tr>\n",
       "      <th>...</th>\n",
       "      <td>...</td>\n",
       "      <td>...</td>\n",
       "      <td>...</td>\n",
       "      <td>...</td>\n",
       "    </tr>\n",
       "    <tr>\n",
       "      <th>1995</th>\n",
       "      <td>51.96</td>\n",
       "      <td>29.58</td>\n",
       "      <td>55.60</td>\n",
       "      <td>ON</td>\n",
       "    </tr>\n",
       "    <tr>\n",
       "      <th>1996</th>\n",
       "      <td>78.03</td>\n",
       "      <td>41.97</td>\n",
       "      <td>56.58</td>\n",
       "      <td>ON</td>\n",
       "    </tr>\n",
       "    <tr>\n",
       "      <th>1997</th>\n",
       "      <td>53.17</td>\n",
       "      <td>30.89</td>\n",
       "      <td>58.78</td>\n",
       "      <td>ON</td>\n",
       "    </tr>\n",
       "    <tr>\n",
       "      <th>1998</th>\n",
       "      <td>27.16</td>\n",
       "      <td>26.30</td>\n",
       "      <td>66.19</td>\n",
       "      <td>OFF</td>\n",
       "    </tr>\n",
       "    <tr>\n",
       "      <th>1999</th>\n",
       "      <td>23.78</td>\n",
       "      <td>20.51</td>\n",
       "      <td>69.13</td>\n",
       "      <td>OFF</td>\n",
       "    </tr>\n",
       "  </tbody>\n",
       "</table>\n",
       "<p>2000 rows × 4 columns</p>\n",
       "</div>"
      ],
      "text/plain": [
       "      Soil Moisture  Temperature  Air Humidity (%) Status\n",
       "0             85.28        37.52             60.56     ON\n",
       "1             58.00        28.98             71.83     ON\n",
       "2             69.57        35.96             59.78     ON\n",
       "3             94.82        41.53             60.77     ON\n",
       "4             87.35        41.04             46.68     ON\n",
       "...             ...          ...               ...    ...\n",
       "1995          51.96        29.58             55.60     ON\n",
       "1996          78.03        41.97             56.58     ON\n",
       "1997          53.17        30.89             58.78     ON\n",
       "1998          27.16        26.30             66.19    OFF\n",
       "1999          23.78        20.51             69.13    OFF\n",
       "\n",
       "[2000 rows x 4 columns]"
      ]
     },
     "execution_count": 9,
     "metadata": {},
     "output_type": "execute_result"
    }
   ],
   "source": [
    "df = pd.read_csv(r\"C:\\Users\\dwara\\Downloads\\TARP\\FINALL\\synthetic_soil_data.csv\")\n",
    "df"
   ]
  },
  {
   "cell_type": "code",
   "execution_count": 18,
   "id": "d6335990",
   "metadata": {},
   "outputs": [
    {
     "data": {
      "text/html": [
       "<div>\n",
       "<style scoped>\n",
       "    .dataframe tbody tr th:only-of-type {\n",
       "        vertical-align: middle;\n",
       "    }\n",
       "\n",
       "    .dataframe tbody tr th {\n",
       "        vertical-align: top;\n",
       "    }\n",
       "\n",
       "    .dataframe thead th {\n",
       "        text-align: right;\n",
       "    }\n",
       "</style>\n",
       "<table border=\"1\" class=\"dataframe\">\n",
       "  <thead>\n",
       "    <tr style=\"text-align: right;\">\n",
       "      <th></th>\n",
       "      <th>Soil Moisture</th>\n",
       "      <th>Air humidity (%)</th>\n",
       "      <th>Temperature</th>\n",
       "      <th>Status</th>\n",
       "    </tr>\n",
       "  </thead>\n",
       "  <tbody>\n",
       "    <tr>\n",
       "      <th>0</th>\n",
       "      <td>54</td>\n",
       "      <td>55.04</td>\n",
       "      <td>22</td>\n",
       "      <td>ON</td>\n",
       "    </tr>\n",
       "    <tr>\n",
       "      <th>1</th>\n",
       "      <td>12</td>\n",
       "      <td>55.17</td>\n",
       "      <td>20</td>\n",
       "      <td>OFF</td>\n",
       "    </tr>\n",
       "    <tr>\n",
       "      <th>2</th>\n",
       "      <td>34</td>\n",
       "      <td>55.30</td>\n",
       "      <td>26</td>\n",
       "      <td>ON</td>\n",
       "    </tr>\n",
       "    <tr>\n",
       "      <th>3</th>\n",
       "      <td>7</td>\n",
       "      <td>54.20</td>\n",
       "      <td>44</td>\n",
       "      <td>OFF</td>\n",
       "    </tr>\n",
       "    <tr>\n",
       "      <th>4</th>\n",
       "      <td>50</td>\n",
       "      <td>53.09</td>\n",
       "      <td>38</td>\n",
       "      <td>OFF</td>\n",
       "    </tr>\n",
       "    <tr>\n",
       "      <th>...</th>\n",
       "      <td>...</td>\n",
       "      <td>...</td>\n",
       "      <td>...</td>\n",
       "      <td>...</td>\n",
       "    </tr>\n",
       "    <tr>\n",
       "      <th>99995</th>\n",
       "      <td>74</td>\n",
       "      <td>NaN</td>\n",
       "      <td>3</td>\n",
       "      <td>OFF</td>\n",
       "    </tr>\n",
       "    <tr>\n",
       "      <th>99996</th>\n",
       "      <td>58</td>\n",
       "      <td>NaN</td>\n",
       "      <td>10</td>\n",
       "      <td>OFF</td>\n",
       "    </tr>\n",
       "    <tr>\n",
       "      <th>99997</th>\n",
       "      <td>4</td>\n",
       "      <td>NaN</td>\n",
       "      <td>35</td>\n",
       "      <td>ON</td>\n",
       "    </tr>\n",
       "    <tr>\n",
       "      <th>99998</th>\n",
       "      <td>83</td>\n",
       "      <td>NaN</td>\n",
       "      <td>36</td>\n",
       "      <td>OFF</td>\n",
       "    </tr>\n",
       "    <tr>\n",
       "      <th>99999</th>\n",
       "      <td>43</td>\n",
       "      <td>NaN</td>\n",
       "      <td>45</td>\n",
       "      <td>ON</td>\n",
       "    </tr>\n",
       "  </tbody>\n",
       "</table>\n",
       "<p>100000 rows × 4 columns</p>\n",
       "</div>"
      ],
      "text/plain": [
       "       Soil Moisture  Air humidity (%)  Temperature Status\n",
       "0                 54             55.04           22     ON\n",
       "1                 12             55.17           20    OFF\n",
       "2                 34             55.30           26     ON\n",
       "3                  7             54.20           44    OFF\n",
       "4                 50             53.09           38    OFF\n",
       "...              ...               ...          ...    ...\n",
       "99995             74               NaN            3    OFF\n",
       "99996             58               NaN           10    OFF\n",
       "99997              4               NaN           35     ON\n",
       "99998             83               NaN           36    OFF\n",
       "99999             43               NaN           45     ON\n",
       "\n",
       "[100000 rows x 4 columns]"
      ]
     },
     "execution_count": 18,
     "metadata": {},
     "output_type": "execute_result"
    }
   ],
   "source": [
    "cols = [\"Soil Moisture\",\"Air humidity (%)\",\"Temperature\",\"Status\"]\n",
    "df = data[cols]\n",
    "df"
   ]
  },
  {
   "cell_type": "code",
   "execution_count": 11,
   "id": "10880580",
   "metadata": {},
   "outputs": [
    {
     "data": {
      "text/plain": [
       "Soil Moisture           0\n",
       "Air humidity (%)    76005\n",
       "Temperature             0\n",
       "Status                  0\n",
       "dtype: int64"
      ]
     },
     "execution_count": 11,
     "metadata": {},
     "output_type": "execute_result"
    }
   ],
   "source": [
    "df.isnull().sum()"
   ]
  },
  {
   "cell_type": "code",
   "execution_count": 29,
   "id": "2b9350df",
   "metadata": {},
   "outputs": [
    {
     "data": {
      "text/plain": [
       "Soil Moisture       0\n",
       "Air humidity (%)    0\n",
       "Temperature         0\n",
       "Status              0\n",
       "dtype: int64"
      ]
     },
     "execution_count": 29,
     "metadata": {},
     "output_type": "execute_result"
    }
   ],
   "source": [
    "df = df.dropna()\n",
    "df.isnull().sum()"
   ]
  },
  {
   "cell_type": "code",
   "execution_count": 30,
   "id": "03d51413",
   "metadata": {},
   "outputs": [
    {
     "data": {
      "text/html": [
       "<div>\n",
       "<style scoped>\n",
       "    .dataframe tbody tr th:only-of-type {\n",
       "        vertical-align: middle;\n",
       "    }\n",
       "\n",
       "    .dataframe tbody tr th {\n",
       "        vertical-align: top;\n",
       "    }\n",
       "\n",
       "    .dataframe thead th {\n",
       "        text-align: right;\n",
       "    }\n",
       "</style>\n",
       "<table border=\"1\" class=\"dataframe\">\n",
       "  <thead>\n",
       "    <tr style=\"text-align: right;\">\n",
       "      <th></th>\n",
       "      <th>Soil Moisture</th>\n",
       "      <th>Air humidity (%)</th>\n",
       "      <th>Temperature</th>\n",
       "      <th>Status</th>\n",
       "    </tr>\n",
       "  </thead>\n",
       "  <tbody>\n",
       "    <tr>\n",
       "      <th>0</th>\n",
       "      <td>54</td>\n",
       "      <td>55.04</td>\n",
       "      <td>22</td>\n",
       "      <td>ON</td>\n",
       "    </tr>\n",
       "    <tr>\n",
       "      <th>1</th>\n",
       "      <td>12</td>\n",
       "      <td>55.17</td>\n",
       "      <td>20</td>\n",
       "      <td>OFF</td>\n",
       "    </tr>\n",
       "    <tr>\n",
       "      <th>2</th>\n",
       "      <td>34</td>\n",
       "      <td>55.30</td>\n",
       "      <td>26</td>\n",
       "      <td>ON</td>\n",
       "    </tr>\n",
       "    <tr>\n",
       "      <th>3</th>\n",
       "      <td>7</td>\n",
       "      <td>54.20</td>\n",
       "      <td>44</td>\n",
       "      <td>OFF</td>\n",
       "    </tr>\n",
       "    <tr>\n",
       "      <th>4</th>\n",
       "      <td>50</td>\n",
       "      <td>53.09</td>\n",
       "      <td>38</td>\n",
       "      <td>OFF</td>\n",
       "    </tr>\n",
       "    <tr>\n",
       "      <th>...</th>\n",
       "      <td>...</td>\n",
       "      <td>...</td>\n",
       "      <td>...</td>\n",
       "      <td>...</td>\n",
       "    </tr>\n",
       "    <tr>\n",
       "      <th>26296</th>\n",
       "      <td>77</td>\n",
       "      <td>96.00</td>\n",
       "      <td>30</td>\n",
       "      <td>OFF</td>\n",
       "    </tr>\n",
       "    <tr>\n",
       "      <th>26297</th>\n",
       "      <td>33</td>\n",
       "      <td>96.00</td>\n",
       "      <td>35</td>\n",
       "      <td>ON</td>\n",
       "    </tr>\n",
       "    <tr>\n",
       "      <th>26298</th>\n",
       "      <td>88</td>\n",
       "      <td>96.00</td>\n",
       "      <td>2</td>\n",
       "      <td>OFF</td>\n",
       "    </tr>\n",
       "    <tr>\n",
       "      <th>26299</th>\n",
       "      <td>61</td>\n",
       "      <td>96.00</td>\n",
       "      <td>45</td>\n",
       "      <td>OFF</td>\n",
       "    </tr>\n",
       "    <tr>\n",
       "      <th>26300</th>\n",
       "      <td>24</td>\n",
       "      <td>96.00</td>\n",
       "      <td>8</td>\n",
       "      <td>OFF</td>\n",
       "    </tr>\n",
       "  </tbody>\n",
       "</table>\n",
       "<p>23995 rows × 4 columns</p>\n",
       "</div>"
      ],
      "text/plain": [
       "       Soil Moisture  Air humidity (%)  Temperature Status\n",
       "0                 54             55.04           22     ON\n",
       "1                 12             55.17           20    OFF\n",
       "2                 34             55.30           26     ON\n",
       "3                  7             54.20           44    OFF\n",
       "4                 50             53.09           38    OFF\n",
       "...              ...               ...          ...    ...\n",
       "26296             77             96.00           30    OFF\n",
       "26297             33             96.00           35     ON\n",
       "26298             88             96.00            2    OFF\n",
       "26299             61             96.00           45    OFF\n",
       "26300             24             96.00            8    OFF\n",
       "\n",
       "[23995 rows x 4 columns]"
      ]
     },
     "execution_count": 30,
     "metadata": {},
     "output_type": "execute_result"
    }
   ],
   "source": [
    "df"
   ]
  },
  {
   "cell_type": "code",
   "execution_count": 31,
   "id": "6e978761",
   "metadata": {},
   "outputs": [
    {
     "data": {
      "text/html": [
       "<div>\n",
       "<style scoped>\n",
       "    .dataframe tbody tr th:only-of-type {\n",
       "        vertical-align: middle;\n",
       "    }\n",
       "\n",
       "    .dataframe tbody tr th {\n",
       "        vertical-align: top;\n",
       "    }\n",
       "\n",
       "    .dataframe thead th {\n",
       "        text-align: right;\n",
       "    }\n",
       "</style>\n",
       "<table border=\"1\" class=\"dataframe\">\n",
       "  <thead>\n",
       "    <tr style=\"text-align: right;\">\n",
       "      <th></th>\n",
       "      <th>Soil Moisture</th>\n",
       "      <th>Air humidity (%)</th>\n",
       "      <th>Temperature</th>\n",
       "    </tr>\n",
       "  </thead>\n",
       "  <tbody>\n",
       "    <tr>\n",
       "      <th>count</th>\n",
       "      <td>23995.000000</td>\n",
       "      <td>23995.000000</td>\n",
       "      <td>23995.000000</td>\n",
       "    </tr>\n",
       "    <tr>\n",
       "      <th>mean</th>\n",
       "      <td>45.433090</td>\n",
       "      <td>58.521052</td>\n",
       "      <td>22.492228</td>\n",
       "    </tr>\n",
       "    <tr>\n",
       "      <th>std</th>\n",
       "      <td>26.007715</td>\n",
       "      <td>30.073448</td>\n",
       "      <td>13.282993</td>\n",
       "    </tr>\n",
       "    <tr>\n",
       "      <th>min</th>\n",
       "      <td>1.000000</td>\n",
       "      <td>0.590000</td>\n",
       "      <td>0.000000</td>\n",
       "    </tr>\n",
       "    <tr>\n",
       "      <th>25%</th>\n",
       "      <td>23.000000</td>\n",
       "      <td>33.980000</td>\n",
       "      <td>11.000000</td>\n",
       "    </tr>\n",
       "    <tr>\n",
       "      <th>50%</th>\n",
       "      <td>45.000000</td>\n",
       "      <td>61.310000</td>\n",
       "      <td>23.000000</td>\n",
       "    </tr>\n",
       "    <tr>\n",
       "      <th>75%</th>\n",
       "      <td>68.000000</td>\n",
       "      <td>86.360000</td>\n",
       "      <td>34.000000</td>\n",
       "    </tr>\n",
       "    <tr>\n",
       "      <th>max</th>\n",
       "      <td>90.000000</td>\n",
       "      <td>96.000000</td>\n",
       "      <td>45.000000</td>\n",
       "    </tr>\n",
       "  </tbody>\n",
       "</table>\n",
       "</div>"
      ],
      "text/plain": [
       "       Soil Moisture  Air humidity (%)   Temperature\n",
       "count   23995.000000      23995.000000  23995.000000\n",
       "mean       45.433090         58.521052     22.492228\n",
       "std        26.007715         30.073448     13.282993\n",
       "min         1.000000          0.590000      0.000000\n",
       "25%        23.000000         33.980000     11.000000\n",
       "50%        45.000000         61.310000     23.000000\n",
       "75%        68.000000         86.360000     34.000000\n",
       "max        90.000000         96.000000     45.000000"
      ]
     },
     "execution_count": 31,
     "metadata": {},
     "output_type": "execute_result"
    }
   ],
   "source": [
    "df.describe()"
   ]
  },
  {
   "cell_type": "code",
   "execution_count": 32,
   "id": "603190e4",
   "metadata": {
    "scrolled": true
   },
   "outputs": [],
   "source": [
    "X = df[['Soil Moisture', 'Air humidity (%)', 'Temperature']]\n",
    "y = df['Status']"
   ]
  },
  {
   "cell_type": "code",
   "execution_count": 33,
   "id": "7753725b",
   "metadata": {},
   "outputs": [],
   "source": [
    "X_train, X_test, y_train, y_test = train_test_split(X, y, test_size=0.2, random_state=42)\n"
   ]
  },
  {
   "cell_type": "markdown",
   "id": "4e20edbd",
   "metadata": {},
   "source": [
    "### Random forest"
   ]
  },
  {
   "cell_type": "code",
   "execution_count": 34,
   "id": "e62ca4d5",
   "metadata": {},
   "outputs": [
    {
     "data": {
      "text/html": [
       "<style>#sk-container-id-2 {\n",
       "  /* Definition of color scheme common for light and dark mode */\n",
       "  --sklearn-color-text: black;\n",
       "  --sklearn-color-line: gray;\n",
       "  /* Definition of color scheme for unfitted estimators */\n",
       "  --sklearn-color-unfitted-level-0: #fff5e6;\n",
       "  --sklearn-color-unfitted-level-1: #f6e4d2;\n",
       "  --sklearn-color-unfitted-level-2: #ffe0b3;\n",
       "  --sklearn-color-unfitted-level-3: chocolate;\n",
       "  /* Definition of color scheme for fitted estimators */\n",
       "  --sklearn-color-fitted-level-0: #f0f8ff;\n",
       "  --sklearn-color-fitted-level-1: #d4ebff;\n",
       "  --sklearn-color-fitted-level-2: #b3dbfd;\n",
       "  --sklearn-color-fitted-level-3: cornflowerblue;\n",
       "\n",
       "  /* Specific color for light theme */\n",
       "  --sklearn-color-text-on-default-background: var(--sg-text-color, var(--theme-code-foreground, var(--jp-content-font-color1, black)));\n",
       "  --sklearn-color-background: var(--sg-background-color, var(--theme-background, var(--jp-layout-color0, white)));\n",
       "  --sklearn-color-border-box: var(--sg-text-color, var(--theme-code-foreground, var(--jp-content-font-color1, black)));\n",
       "  --sklearn-color-icon: #696969;\n",
       "\n",
       "  @media (prefers-color-scheme: dark) {\n",
       "    /* Redefinition of color scheme for dark theme */\n",
       "    --sklearn-color-text-on-default-background: var(--sg-text-color, var(--theme-code-foreground, var(--jp-content-font-color1, white)));\n",
       "    --sklearn-color-background: var(--sg-background-color, var(--theme-background, var(--jp-layout-color0, #111)));\n",
       "    --sklearn-color-border-box: var(--sg-text-color, var(--theme-code-foreground, var(--jp-content-font-color1, white)));\n",
       "    --sklearn-color-icon: #878787;\n",
       "  }\n",
       "}\n",
       "\n",
       "#sk-container-id-2 {\n",
       "  color: var(--sklearn-color-text);\n",
       "}\n",
       "\n",
       "#sk-container-id-2 pre {\n",
       "  padding: 0;\n",
       "}\n",
       "\n",
       "#sk-container-id-2 input.sk-hidden--visually {\n",
       "  border: 0;\n",
       "  clip: rect(1px 1px 1px 1px);\n",
       "  clip: rect(1px, 1px, 1px, 1px);\n",
       "  height: 1px;\n",
       "  margin: -1px;\n",
       "  overflow: hidden;\n",
       "  padding: 0;\n",
       "  position: absolute;\n",
       "  width: 1px;\n",
       "}\n",
       "\n",
       "#sk-container-id-2 div.sk-dashed-wrapped {\n",
       "  border: 1px dashed var(--sklearn-color-line);\n",
       "  margin: 0 0.4em 0.5em 0.4em;\n",
       "  box-sizing: border-box;\n",
       "  padding-bottom: 0.4em;\n",
       "  background-color: var(--sklearn-color-background);\n",
       "}\n",
       "\n",
       "#sk-container-id-2 div.sk-container {\n",
       "  /* jupyter's `normalize.less` sets `[hidden] { display: none; }`\n",
       "     but bootstrap.min.css set `[hidden] { display: none !important; }`\n",
       "     so we also need the `!important` here to be able to override the\n",
       "     default hidden behavior on the sphinx rendered scikit-learn.org.\n",
       "     See: https://github.com/scikit-learn/scikit-learn/issues/21755 */\n",
       "  display: inline-block !important;\n",
       "  position: relative;\n",
       "}\n",
       "\n",
       "#sk-container-id-2 div.sk-text-repr-fallback {\n",
       "  display: none;\n",
       "}\n",
       "\n",
       "div.sk-parallel-item,\n",
       "div.sk-serial,\n",
       "div.sk-item {\n",
       "  /* draw centered vertical line to link estimators */\n",
       "  background-image: linear-gradient(var(--sklearn-color-text-on-default-background), var(--sklearn-color-text-on-default-background));\n",
       "  background-size: 2px 100%;\n",
       "  background-repeat: no-repeat;\n",
       "  background-position: center center;\n",
       "}\n",
       "\n",
       "/* Parallel-specific style estimator block */\n",
       "\n",
       "#sk-container-id-2 div.sk-parallel-item::after {\n",
       "  content: \"\";\n",
       "  width: 100%;\n",
       "  border-bottom: 2px solid var(--sklearn-color-text-on-default-background);\n",
       "  flex-grow: 1;\n",
       "}\n",
       "\n",
       "#sk-container-id-2 div.sk-parallel {\n",
       "  display: flex;\n",
       "  align-items: stretch;\n",
       "  justify-content: center;\n",
       "  background-color: var(--sklearn-color-background);\n",
       "  position: relative;\n",
       "}\n",
       "\n",
       "#sk-container-id-2 div.sk-parallel-item {\n",
       "  display: flex;\n",
       "  flex-direction: column;\n",
       "}\n",
       "\n",
       "#sk-container-id-2 div.sk-parallel-item:first-child::after {\n",
       "  align-self: flex-end;\n",
       "  width: 50%;\n",
       "}\n",
       "\n",
       "#sk-container-id-2 div.sk-parallel-item:last-child::after {\n",
       "  align-self: flex-start;\n",
       "  width: 50%;\n",
       "}\n",
       "\n",
       "#sk-container-id-2 div.sk-parallel-item:only-child::after {\n",
       "  width: 0;\n",
       "}\n",
       "\n",
       "/* Serial-specific style estimator block */\n",
       "\n",
       "#sk-container-id-2 div.sk-serial {\n",
       "  display: flex;\n",
       "  flex-direction: column;\n",
       "  align-items: center;\n",
       "  background-color: var(--sklearn-color-background);\n",
       "  padding-right: 1em;\n",
       "  padding-left: 1em;\n",
       "}\n",
       "\n",
       "\n",
       "/* Toggleable style: style used for estimator/Pipeline/ColumnTransformer box that is\n",
       "clickable and can be expanded/collapsed.\n",
       "- Pipeline and ColumnTransformer use this feature and define the default style\n",
       "- Estimators will overwrite some part of the style using the `sk-estimator` class\n",
       "*/\n",
       "\n",
       "/* Pipeline and ColumnTransformer style (default) */\n",
       "\n",
       "#sk-container-id-2 div.sk-toggleable {\n",
       "  /* Default theme specific background. It is overwritten whether we have a\n",
       "  specific estimator or a Pipeline/ColumnTransformer */\n",
       "  background-color: var(--sklearn-color-background);\n",
       "}\n",
       "\n",
       "/* Toggleable label */\n",
       "#sk-container-id-2 label.sk-toggleable__label {\n",
       "  cursor: pointer;\n",
       "  display: block;\n",
       "  width: 100%;\n",
       "  margin-bottom: 0;\n",
       "  padding: 0.5em;\n",
       "  box-sizing: border-box;\n",
       "  text-align: center;\n",
       "}\n",
       "\n",
       "#sk-container-id-2 label.sk-toggleable__label-arrow:before {\n",
       "  /* Arrow on the left of the label */\n",
       "  content: \"▸\";\n",
       "  float: left;\n",
       "  margin-right: 0.25em;\n",
       "  color: var(--sklearn-color-icon);\n",
       "}\n",
       "\n",
       "#sk-container-id-2 label.sk-toggleable__label-arrow:hover:before {\n",
       "  color: var(--sklearn-color-text);\n",
       "}\n",
       "\n",
       "/* Toggleable content - dropdown */\n",
       "\n",
       "#sk-container-id-2 div.sk-toggleable__content {\n",
       "  max-height: 0;\n",
       "  max-width: 0;\n",
       "  overflow: hidden;\n",
       "  text-align: left;\n",
       "  /* unfitted */\n",
       "  background-color: var(--sklearn-color-unfitted-level-0);\n",
       "}\n",
       "\n",
       "#sk-container-id-2 div.sk-toggleable__content.fitted {\n",
       "  /* fitted */\n",
       "  background-color: var(--sklearn-color-fitted-level-0);\n",
       "}\n",
       "\n",
       "#sk-container-id-2 div.sk-toggleable__content pre {\n",
       "  margin: 0.2em;\n",
       "  border-radius: 0.25em;\n",
       "  color: var(--sklearn-color-text);\n",
       "  /* unfitted */\n",
       "  background-color: var(--sklearn-color-unfitted-level-0);\n",
       "}\n",
       "\n",
       "#sk-container-id-2 div.sk-toggleable__content.fitted pre {\n",
       "  /* unfitted */\n",
       "  background-color: var(--sklearn-color-fitted-level-0);\n",
       "}\n",
       "\n",
       "#sk-container-id-2 input.sk-toggleable__control:checked~div.sk-toggleable__content {\n",
       "  /* Expand drop-down */\n",
       "  max-height: 200px;\n",
       "  max-width: 100%;\n",
       "  overflow: auto;\n",
       "}\n",
       "\n",
       "#sk-container-id-2 input.sk-toggleable__control:checked~label.sk-toggleable__label-arrow:before {\n",
       "  content: \"▾\";\n",
       "}\n",
       "\n",
       "/* Pipeline/ColumnTransformer-specific style */\n",
       "\n",
       "#sk-container-id-2 div.sk-label input.sk-toggleable__control:checked~label.sk-toggleable__label {\n",
       "  color: var(--sklearn-color-text);\n",
       "  background-color: var(--sklearn-color-unfitted-level-2);\n",
       "}\n",
       "\n",
       "#sk-container-id-2 div.sk-label.fitted input.sk-toggleable__control:checked~label.sk-toggleable__label {\n",
       "  background-color: var(--sklearn-color-fitted-level-2);\n",
       "}\n",
       "\n",
       "/* Estimator-specific style */\n",
       "\n",
       "/* Colorize estimator box */\n",
       "#sk-container-id-2 div.sk-estimator input.sk-toggleable__control:checked~label.sk-toggleable__label {\n",
       "  /* unfitted */\n",
       "  background-color: var(--sklearn-color-unfitted-level-2);\n",
       "}\n",
       "\n",
       "#sk-container-id-2 div.sk-estimator.fitted input.sk-toggleable__control:checked~label.sk-toggleable__label {\n",
       "  /* fitted */\n",
       "  background-color: var(--sklearn-color-fitted-level-2);\n",
       "}\n",
       "\n",
       "#sk-container-id-2 div.sk-label label.sk-toggleable__label,\n",
       "#sk-container-id-2 div.sk-label label {\n",
       "  /* The background is the default theme color */\n",
       "  color: var(--sklearn-color-text-on-default-background);\n",
       "}\n",
       "\n",
       "/* On hover, darken the color of the background */\n",
       "#sk-container-id-2 div.sk-label:hover label.sk-toggleable__label {\n",
       "  color: var(--sklearn-color-text);\n",
       "  background-color: var(--sklearn-color-unfitted-level-2);\n",
       "}\n",
       "\n",
       "/* Label box, darken color on hover, fitted */\n",
       "#sk-container-id-2 div.sk-label.fitted:hover label.sk-toggleable__label.fitted {\n",
       "  color: var(--sklearn-color-text);\n",
       "  background-color: var(--sklearn-color-fitted-level-2);\n",
       "}\n",
       "\n",
       "/* Estimator label */\n",
       "\n",
       "#sk-container-id-2 div.sk-label label {\n",
       "  font-family: monospace;\n",
       "  font-weight: bold;\n",
       "  display: inline-block;\n",
       "  line-height: 1.2em;\n",
       "}\n",
       "\n",
       "#sk-container-id-2 div.sk-label-container {\n",
       "  text-align: center;\n",
       "}\n",
       "\n",
       "/* Estimator-specific */\n",
       "#sk-container-id-2 div.sk-estimator {\n",
       "  font-family: monospace;\n",
       "  border: 1px dotted var(--sklearn-color-border-box);\n",
       "  border-radius: 0.25em;\n",
       "  box-sizing: border-box;\n",
       "  margin-bottom: 0.5em;\n",
       "  /* unfitted */\n",
       "  background-color: var(--sklearn-color-unfitted-level-0);\n",
       "}\n",
       "\n",
       "#sk-container-id-2 div.sk-estimator.fitted {\n",
       "  /* fitted */\n",
       "  background-color: var(--sklearn-color-fitted-level-0);\n",
       "}\n",
       "\n",
       "/* on hover */\n",
       "#sk-container-id-2 div.sk-estimator:hover {\n",
       "  /* unfitted */\n",
       "  background-color: var(--sklearn-color-unfitted-level-2);\n",
       "}\n",
       "\n",
       "#sk-container-id-2 div.sk-estimator.fitted:hover {\n",
       "  /* fitted */\n",
       "  background-color: var(--sklearn-color-fitted-level-2);\n",
       "}\n",
       "\n",
       "/* Specification for estimator info (e.g. \"i\" and \"?\") */\n",
       "\n",
       "/* Common style for \"i\" and \"?\" */\n",
       "\n",
       ".sk-estimator-doc-link,\n",
       "a:link.sk-estimator-doc-link,\n",
       "a:visited.sk-estimator-doc-link {\n",
       "  float: right;\n",
       "  font-size: smaller;\n",
       "  line-height: 1em;\n",
       "  font-family: monospace;\n",
       "  background-color: var(--sklearn-color-background);\n",
       "  border-radius: 1em;\n",
       "  height: 1em;\n",
       "  width: 1em;\n",
       "  text-decoration: none !important;\n",
       "  margin-left: 1ex;\n",
       "  /* unfitted */\n",
       "  border: var(--sklearn-color-unfitted-level-1) 1pt solid;\n",
       "  color: var(--sklearn-color-unfitted-level-1);\n",
       "}\n",
       "\n",
       ".sk-estimator-doc-link.fitted,\n",
       "a:link.sk-estimator-doc-link.fitted,\n",
       "a:visited.sk-estimator-doc-link.fitted {\n",
       "  /* fitted */\n",
       "  border: var(--sklearn-color-fitted-level-1) 1pt solid;\n",
       "  color: var(--sklearn-color-fitted-level-1);\n",
       "}\n",
       "\n",
       "/* On hover */\n",
       "div.sk-estimator:hover .sk-estimator-doc-link:hover,\n",
       ".sk-estimator-doc-link:hover,\n",
       "div.sk-label-container:hover .sk-estimator-doc-link:hover,\n",
       ".sk-estimator-doc-link:hover {\n",
       "  /* unfitted */\n",
       "  background-color: var(--sklearn-color-unfitted-level-3);\n",
       "  color: var(--sklearn-color-background);\n",
       "  text-decoration: none;\n",
       "}\n",
       "\n",
       "div.sk-estimator.fitted:hover .sk-estimator-doc-link.fitted:hover,\n",
       ".sk-estimator-doc-link.fitted:hover,\n",
       "div.sk-label-container:hover .sk-estimator-doc-link.fitted:hover,\n",
       ".sk-estimator-doc-link.fitted:hover {\n",
       "  /* fitted */\n",
       "  background-color: var(--sklearn-color-fitted-level-3);\n",
       "  color: var(--sklearn-color-background);\n",
       "  text-decoration: none;\n",
       "}\n",
       "\n",
       "/* Span, style for the box shown on hovering the info icon */\n",
       ".sk-estimator-doc-link span {\n",
       "  display: none;\n",
       "  z-index: 9999;\n",
       "  position: relative;\n",
       "  font-weight: normal;\n",
       "  right: .2ex;\n",
       "  padding: .5ex;\n",
       "  margin: .5ex;\n",
       "  width: min-content;\n",
       "  min-width: 20ex;\n",
       "  max-width: 50ex;\n",
       "  color: var(--sklearn-color-text);\n",
       "  box-shadow: 2pt 2pt 4pt #999;\n",
       "  /* unfitted */\n",
       "  background: var(--sklearn-color-unfitted-level-0);\n",
       "  border: .5pt solid var(--sklearn-color-unfitted-level-3);\n",
       "}\n",
       "\n",
       ".sk-estimator-doc-link.fitted span {\n",
       "  /* fitted */\n",
       "  background: var(--sklearn-color-fitted-level-0);\n",
       "  border: var(--sklearn-color-fitted-level-3);\n",
       "}\n",
       "\n",
       ".sk-estimator-doc-link:hover span {\n",
       "  display: block;\n",
       "}\n",
       "\n",
       "/* \"?\"-specific style due to the `<a>` HTML tag */\n",
       "\n",
       "#sk-container-id-2 a.estimator_doc_link {\n",
       "  float: right;\n",
       "  font-size: 1rem;\n",
       "  line-height: 1em;\n",
       "  font-family: monospace;\n",
       "  background-color: var(--sklearn-color-background);\n",
       "  border-radius: 1rem;\n",
       "  height: 1rem;\n",
       "  width: 1rem;\n",
       "  text-decoration: none;\n",
       "  /* unfitted */\n",
       "  color: var(--sklearn-color-unfitted-level-1);\n",
       "  border: var(--sklearn-color-unfitted-level-1) 1pt solid;\n",
       "}\n",
       "\n",
       "#sk-container-id-2 a.estimator_doc_link.fitted {\n",
       "  /* fitted */\n",
       "  border: var(--sklearn-color-fitted-level-1) 1pt solid;\n",
       "  color: var(--sklearn-color-fitted-level-1);\n",
       "}\n",
       "\n",
       "/* On hover */\n",
       "#sk-container-id-2 a.estimator_doc_link:hover {\n",
       "  /* unfitted */\n",
       "  background-color: var(--sklearn-color-unfitted-level-3);\n",
       "  color: var(--sklearn-color-background);\n",
       "  text-decoration: none;\n",
       "}\n",
       "\n",
       "#sk-container-id-2 a.estimator_doc_link.fitted:hover {\n",
       "  /* fitted */\n",
       "  background-color: var(--sklearn-color-fitted-level-3);\n",
       "}\n",
       "</style><div id=\"sk-container-id-2\" class=\"sk-top-container\"><div class=\"sk-text-repr-fallback\"><pre>RandomForestClassifier(random_state=42)</pre><b>In a Jupyter environment, please rerun this cell to show the HTML representation or trust the notebook. <br />On GitHub, the HTML representation is unable to render, please try loading this page with nbviewer.org.</b></div><div class=\"sk-container\" hidden><div class=\"sk-item\"><div class=\"sk-estimator fitted sk-toggleable\"><input class=\"sk-toggleable__control sk-hidden--visually\" id=\"sk-estimator-id-2\" type=\"checkbox\" checked><label for=\"sk-estimator-id-2\" class=\"sk-toggleable__label fitted sk-toggleable__label-arrow fitted\">&nbsp;&nbsp;RandomForestClassifier<a class=\"sk-estimator-doc-link fitted\" rel=\"noreferrer\" target=\"_blank\" href=\"https://scikit-learn.org/1.5/modules/generated/sklearn.ensemble.RandomForestClassifier.html\">?<span>Documentation for RandomForestClassifier</span></a><span class=\"sk-estimator-doc-link fitted\">i<span>Fitted</span></span></label><div class=\"sk-toggleable__content fitted\"><pre>RandomForestClassifier(random_state=42)</pre></div> </div></div></div></div>"
      ],
      "text/plain": [
       "RandomForestClassifier(random_state=42)"
      ]
     },
     "execution_count": 34,
     "metadata": {},
     "output_type": "execute_result"
    }
   ],
   "source": [
    "# Initialize the Random Forest Classifier\n",
    "rf_model = RandomForestClassifier(n_estimators=100, random_state=42)\n",
    "\n",
    "# Fit the model to the training data\n",
    "rf_model.fit(X_train, y_train)"
   ]
  },
  {
   "cell_type": "code",
   "execution_count": 35,
   "id": "9f6b6f56",
   "metadata": {},
   "outputs": [
    {
     "name": "stdout",
     "output_type": "stream",
     "text": [
      "Accuracy: 0.6738903938320483\n",
      "              precision    recall  f1-score   support\n",
      "\n",
      "         OFF       0.64      0.63      0.64      2173\n",
      "          ON       0.70      0.71      0.71      2626\n",
      "\n",
      "    accuracy                           0.67      4799\n",
      "   macro avg       0.67      0.67      0.67      4799\n",
      "weighted avg       0.67      0.67      0.67      4799\n",
      "\n"
     ]
    }
   ],
   "source": [
    "# Make predictions on the test set\n",
    "y_pred_rf = rf_model.predict(X_test)\n",
    "\n",
    "# Evaluate the model\n",
    "print(\"Accuracy:\", accuracy_score(y_test, y_pred_rf))\n",
    "print(classification_report(y_test, y_pred_rf))\n"
   ]
  },
  {
   "cell_type": "code",
   "execution_count": 36,
   "id": "c599ffff",
   "metadata": {},
   "outputs": [
    {
     "name": "stdout",
     "output_type": "stream",
     "text": [
      "Predicted Status: OFF\n"
     ]
    }
   ],
   "source": [
    "new_data = pd.DataFrame({\n",
    "    'Soil Moisture': [100],  # Replace with your actual input values\n",
    "    'Air humidity (%)': [98],    # Replace with your actual input values\n",
    "    'Temperature': [25]      # Replace with your actual input values\n",
    "})\n",
    "\n",
    "# Make predictions\n",
    "predictions = rf_model.predict(new_data)\n",
    "\n",
    "# Output the predicted status\n",
    "print(\"Predicted Status:\", predictions[0])"
   ]
  },
  {
   "cell_type": "code",
   "execution_count": 37,
   "id": "8698e27e",
   "metadata": {},
   "outputs": [
    {
     "data": {
      "text/plain": [
       "array(['ON'], dtype=object)"
      ]
     },
     "execution_count": 37,
     "metadata": {},
     "output_type": "execute_result"
    }
   ],
   "source": [
    "new_data = np.array([[0, 94, 24]])  # Input values as a 2D array\n",
    "\n",
    "# Make predictions\n",
    "predictions = rf_model.predict(new_data)\n",
    "predictions"
   ]
  },
  {
   "cell_type": "markdown",
   "id": "7579bbfb",
   "metadata": {},
   "source": [
    "### Logistic regression"
   ]
  },
  {
   "cell_type": "code",
   "execution_count": 38,
   "id": "d94851fb",
   "metadata": {},
   "outputs": [
    {
     "name": "stdout",
     "output_type": "stream",
     "text": [
      "Accuracy: 0.6980620962700562\n",
      "Logistic Regression Classification Report:\n",
      "              precision    recall  f1-score   support\n",
      "\n",
      "         OFF       0.68      0.64      0.66      2173\n",
      "          ON       0.71      0.75      0.73      2626\n",
      "\n",
      "    accuracy                           0.70      4799\n",
      "   macro avg       0.70      0.69      0.69      4799\n",
      "weighted avg       0.70      0.70      0.70      4799\n",
      "\n"
     ]
    }
   ],
   "source": [
    "log_model = LogisticRegression()\n",
    "log_model.fit(X_train, y_train)\n",
    "log_predictions = log_model.predict(X_test)\n",
    "y_pred_lr = log_model.predict(X_test)\n",
    "print(\"Accuracy:\", accuracy_score(y_test, y_pred_lr))\n",
    "print(\"Logistic Regression Classification Report:\")\n",
    "print(classification_report(y_test, log_predictions))"
   ]
  },
  {
   "cell_type": "markdown",
   "id": "8c45820f",
   "metadata": {},
   "source": [
    "### Support vector classifier"
   ]
  },
  {
   "cell_type": "code",
   "execution_count": 39,
   "id": "e8f73166",
   "metadata": {},
   "outputs": [
    {
     "name": "stdout",
     "output_type": "stream",
     "text": [
      "Accuracy: 0.7009793707022296\n",
      "Support Vector Classifier Classification Report:\n",
      "              precision    recall  f1-score   support\n",
      "\n",
      "         OFF       0.69      0.62      0.65      2173\n",
      "          ON       0.71      0.77      0.74      2626\n",
      "\n",
      "    accuracy                           0.70      4799\n",
      "   macro avg       0.70      0.69      0.70      4799\n",
      "weighted avg       0.70      0.70      0.70      4799\n",
      "\n"
     ]
    }
   ],
   "source": [
    "# Support Vector Classifier\n",
    "svc_model = SVC()\n",
    "svc_model.fit(X_train, y_train)\n",
    "svc_predictions = svc_model.predict(X_test)\n",
    "y_pred_svc = svc_model.predict(X_test)\n",
    "print(\"Accuracy:\", accuracy_score(y_test, y_pred_svc))\n",
    "print(\"Support Vector Classifier Classification Report:\")\n",
    "print(classification_report(y_test, svc_predictions))"
   ]
  },
  {
   "cell_type": "code",
   "execution_count": 40,
   "id": "906e879a-1d52-4f8d-b95c-0602da4f7eb4",
   "metadata": {},
   "outputs": [
    {
     "name": "stdout",
     "output_type": "stream",
     "text": [
      "Predicted Status: OFF\n"
     ]
    }
   ],
   "source": [
    "new_data = [[100,  98,  29.3]]\n",
    "predictions = rf_model.predict(new_data)\n",
    "status = predictions[0]  # Assuming 1 = \"on\" and 0 = \"off\"\n",
    "                \n",
    "# Output the predicted status\n",
    "print(\"Predicted Status:\", status)"
   ]
  },
  {
   "cell_type": "markdown",
   "id": "c0d088d2-1459-4c31-946d-ce23a8a9bd57",
   "metadata": {},
   "source": [
    "# WITH PUMP"
   ]
  },
  {
   "cell_type": "code",
   "execution_count": 49,
   "id": "f796e70d-a8da-4762-a625-7017e50eed70",
   "metadata": {},
   "outputs": [
    {
     "name": "stdout",
     "output_type": "stream",
     "text": [
      "0.59,95.00,28.50\n",
      "Current Status: ON\n",
      "Turning OFF Water pump\n",
      "1.56,95.00,28.50\n",
      "Current Status: ON\n",
      "Turning OFF Water pump\n",
      ".\n",
      "1.86,95.00,28.50\n",
      "Current Status: ON\n",
      "Turning OFF Water pump\n",
      ".\n",
      "27.27,95.00,28.50\n",
      "Current Status: ON\n",
      "Turning OFF Water pump\n",
      ".\n",
      "29.72,95.00,28.50\n",
      "Current Status: ON\n",
      "Turning OFF Water pump\n",
      ".\n",
      "43.11,95.00,28.50\n",
      "Current Status: ON\n",
      "Turning OFF Water pump\n",
      ".\n",
      "31.87,95.00,28.50\n",
      "Current Status: ON\n",
      "Turning OFF Water pump\n",
      "0.59,95.00,28.50\n",
      "Current Status: ON\n",
      "Turning OFF Water pump\n",
      ".\n",
      "0.49,95.00,28.50\n",
      "Current Status: ON\n",
      "Turning OFF Water pump\n",
      ".\n",
      "0.59,95.00,28.50\n",
      "Current Status: ON\n",
      "Turning OFF Water pump\n",
      ".\n",
      "0.59,95.00,28.50\n",
      "Current Status: ON\n",
      "Turning OFF Water pump\n",
      ".\n",
      "0.68,95.00,28.50\n",
      "Current Status: ON\n",
      "Turning OFF Water pump\n",
      ".\n",
      "0.59,95.00,28.50\n",
      "Current Status: ON\n",
      "Turning OFF Water pump\n",
      ".\n",
      "0.59,95.00,28.50\n",
      "Current Status: ON\n",
      "Turning OFF Water pump\n",
      ".\n",
      "0.59,95.00,28.50\n",
      "Current Status: ON\n",
      "Turning OFF Water pump\n",
      ".\n",
      "0.59,95.00,28.50\n",
      "Current Status: ON\n",
      "Turning OFF Water pump\n",
      "53.27,95.00,28.50\n",
      "Current Status: ON\n",
      "Turning OFF Water pump\n",
      ".\n",
      "52.39,95.00,28.50\n",
      "Current Status: ON\n",
      "Turning OFF Water pump\n",
      ".\n",
      "52.00,95.00,28.50\n",
      "Current Status: ON\n",
      "Turning OFF Water pump\n",
      ".\n",
      "51.91,95.00,28.50\n",
      "Current Status: ON\n",
      "Turning OFF Water pump\n",
      ".\n",
      "51.71,95.00,28.50\n",
      "Current Status: ON\n",
      "Turning OFF Water pump\n",
      "Exiting...\n"
     ]
    }
   ],
   "source": [
    "import serial\n",
    "import time\n",
    "import numpy as np\n",
    "\n",
    "# Connect to the Arduino\n",
    "arduino = serial.Serial('COM5', 9600, timeout=1)\n",
    "time.sleep(2)  # Wait for the connection to establish\n",
    "\n",
    "# Function to read data from Arduino\n",
    "def read_data():\n",
    "    while True:\n",
    "        line = arduino.readline().decode('utf-8').strip()  # Read a line from the Arduino\n",
    "        if line:  # If there's something to read\n",
    "            print(line)\n",
    "            # Split the line into soil moisture, humidity, and temperature values\n",
    "            values = line.split(',')\n",
    "            if len(values) == 3:  # Ensure there are exactly 3 values\n",
    "                soil_moisture, humidity, temperature = map(float, values)\n",
    "                \n",
    "                # Prepare the input data for prediction (make sure you have your Random Forest model loaded)\n",
    "                new_data = np.array([[soil_moisture, humidity, temperature]])\n",
    "                \n",
    "                # Predict if watering is needed\n",
    "                predictions = rf_model.predict(new_data)\n",
    "                status = predictions[0]  # Assuming 1 = \"on\" and 0 = \"off\"\n",
    "                \n",
    "                # Output the predicted status\n",
    "                print(\"Current Status:\", status)\n",
    "\n",
    "                # Send the command to Arduino based on the status\n",
    "                if status == \"OFF\":  # \"on\" for watering\n",
    "                    arduino.write(b'0')  # Turn on pump (send '1' to Arduino)\n",
    "                    print(\"Turning ON Water pump\")\n",
    "                else:  # \"off\" for no watering\n",
    "                    arduino.write(b'1')  # Turn off pump (send '0' to Arduino)\n",
    "                    print(\"Turning OFF Water pump\")\n",
    "        \n",
    "        time.sleep(3)  # Adjust delay as needed\n",
    "\n",
    "try:\n",
    "    read_data()\n",
    "except KeyboardInterrupt:\n",
    "    print(\"Exiting...\")\n",
    "finally:\n",
    "    arduino.close()\n"
   ]
  },
  {
   "cell_type": "code",
   "execution_count": null,
   "id": "af6308b3-aba9-4cbe-b500-722e7a06b839",
   "metadata": {},
   "outputs": [],
   "source": []
  },
  {
   "cell_type": "code",
   "execution_count": null,
   "id": "62f1d08f-27e9-4bcb-9302-0d3cfbbc8dc1",
   "metadata": {},
   "outputs": [],
   "source": []
  },
  {
   "cell_type": "code",
   "execution_count": null,
   "id": "7d6acb6d-fa6f-41f1-8019-b59004679a07",
   "metadata": {},
   "outputs": [],
   "source": []
  },
  {
   "cell_type": "code",
   "execution_count": null,
   "id": "639247f9-62bc-4852-92bc-23e4194dc3d9",
   "metadata": {},
   "outputs": [],
   "source": []
  },
  {
   "cell_type": "code",
   "execution_count": null,
   "id": "15e4ab6a-f783-40a7-a52c-fdad1cd736f1",
   "metadata": {},
   "outputs": [],
   "source": []
  },
  {
   "cell_type": "code",
   "execution_count": null,
   "id": "d06cc746-5f60-4ef8-87d9-7526059701d6",
   "metadata": {},
   "outputs": [],
   "source": []
  },
  {
   "cell_type": "code",
   "execution_count": null,
   "id": "32c6242b-c0ed-4aac-8ead-e3f9c433dabc",
   "metadata": {},
   "outputs": [],
   "source": []
  },
  {
   "cell_type": "code",
   "execution_count": null,
   "id": "58a38666-4e8d-4e71-ad7d-b17597199208",
   "metadata": {},
   "outputs": [],
   "source": []
  },
  {
   "cell_type": "code",
   "execution_count": null,
   "id": "d2a2a1bb-0ea1-401d-8afb-2e757f217dd6",
   "metadata": {},
   "outputs": [],
   "source": []
  },
  {
   "cell_type": "code",
   "execution_count": null,
   "id": "1c2a160b-bc06-43b8-84f7-a812382151ab",
   "metadata": {},
   "outputs": [],
   "source": []
  },
  {
   "cell_type": "code",
   "execution_count": null,
   "id": "e6534851-6444-468b-bbac-75a2e0cbceb7",
   "metadata": {},
   "outputs": [],
   "source": []
  },
  {
   "cell_type": "code",
   "execution_count": null,
   "id": "cf9e980c-1334-4962-b3cf-1c32a44cd295",
   "metadata": {},
   "outputs": [],
   "source": []
  },
  {
   "cell_type": "code",
   "execution_count": null,
   "id": "9cb2fdc1-f693-478c-83f6-3746fef82874",
   "metadata": {},
   "outputs": [],
   "source": []
  },
  {
   "cell_type": "code",
   "execution_count": null,
   "id": "c6693609-d4aa-4255-9995-f99f1464dd02",
   "metadata": {},
   "outputs": [],
   "source": []
  },
  {
   "cell_type": "code",
   "execution_count": null,
   "id": "eff07eb1-0d3d-4c76-b114-98a38d7ce7f9",
   "metadata": {},
   "outputs": [],
   "source": []
  },
  {
   "cell_type": "code",
   "execution_count": null,
   "id": "49a1da8e-12e0-4f0b-9662-bff311900fd4",
   "metadata": {},
   "outputs": [],
   "source": []
  },
  {
   "cell_type": "code",
   "execution_count": null,
   "id": "cfdf07cd-fbb9-4dc2-a066-5130876824fe",
   "metadata": {},
   "outputs": [],
   "source": []
  },
  {
   "cell_type": "markdown",
   "id": "1a3554ca",
   "metadata": {},
   "source": [
    "Rnadom forest"
   ]
  },
  {
   "cell_type": "code",
   "execution_count": 23,
   "id": "4e8e4783",
   "metadata": {
    "scrolled": true
   },
   "outputs": [
    {
     "name": "stdout",
     "output_type": "stream",
     "text": [
      "-0.00,95.00,29.30\n",
      "Predicted Status: ON\n"
     ]
    },
    {
     "name": "stderr",
     "output_type": "stream",
     "text": [
      "C:\\Users\\Radcoflex-Purchase\\AppData\\Local\\Programs\\Python\\Python310\\lib\\site-packages\\sklearn\\base.py:493: UserWarning: X does not have valid feature names, but RandomForestClassifier was fitted with feature names\n",
      "  warnings.warn(\n"
     ]
    },
    {
     "name": "stdout",
     "output_type": "stream",
     "text": [
      "0.10,95.00,28.90\n",
      "Predicted Status: ON\n"
     ]
    },
    {
     "name": "stderr",
     "output_type": "stream",
     "text": [
      "C:\\Users\\Radcoflex-Purchase\\AppData\\Local\\Programs\\Python\\Python310\\lib\\site-packages\\sklearn\\base.py:493: UserWarning: X does not have valid feature names, but RandomForestClassifier was fitted with feature names\n",
      "  warnings.warn(\n"
     ]
    },
    {
     "name": "stdout",
     "output_type": "stream",
     "text": [
      "0.10,93.00,28.90\n",
      "Predicted Status: ON\n"
     ]
    },
    {
     "name": "stderr",
     "output_type": "stream",
     "text": [
      "C:\\Users\\Radcoflex-Purchase\\AppData\\Local\\Programs\\Python\\Python310\\lib\\site-packages\\sklearn\\base.py:493: UserWarning: X does not have valid feature names, but RandomForestClassifier was fitted with feature names\n",
      "  warnings.warn(\n",
      "C:\\Users\\Radcoflex-Purchase\\AppData\\Local\\Programs\\Python\\Python310\\lib\\site-packages\\sklearn\\base.py:493: UserWarning: X does not have valid feature names, but RandomForestClassifier was fitted with feature names\n",
      "  warnings.warn(\n"
     ]
    },
    {
     "name": "stdout",
     "output_type": "stream",
     "text": [
      "Predicted Status: ON\n",
      "0.10,93.00,28.90\n",
      "Predicted Status: ON\n"
     ]
    },
    {
     "name": "stderr",
     "output_type": "stream",
     "text": [
      "C:\\Users\\Radcoflex-Purchase\\AppData\\Local\\Programs\\Python\\Python310\\lib\\site-packages\\sklearn\\base.py:493: UserWarning: X does not have valid feature names, but RandomForestClassifier was fitted with feature names\n",
      "  warnings.warn(\n"
     ]
    },
    {
     "name": "stdout",
     "output_type": "stream",
     "text": [
      "0.10,93.00,28.90\n",
      "Predicted Status: ON\n"
     ]
    },
    {
     "name": "stderr",
     "output_type": "stream",
     "text": [
      "C:\\Users\\Radcoflex-Purchase\\AppData\\Local\\Programs\\Python\\Python310\\lib\\site-packages\\sklearn\\base.py:493: UserWarning: X does not have valid feature names, but RandomForestClassifier was fitted with feature names\n",
      "  warnings.warn(\n"
     ]
    },
    {
     "name": "stdout",
     "output_type": "stream",
     "text": [
      "0.10,93.00,28.90\n",
      "Predicted Status: ON\n"
     ]
    },
    {
     "name": "stderr",
     "output_type": "stream",
     "text": [
      "C:\\Users\\Radcoflex-Purchase\\AppData\\Local\\Programs\\Python\\Python310\\lib\\site-packages\\sklearn\\base.py:493: UserWarning: X does not have valid feature names, but RandomForestClassifier was fitted with feature names\n",
      "  warnings.warn(\n"
     ]
    },
    {
     "name": "stdout",
     "output_type": "stream",
     "text": [
      "0.10,93.00,28.90\n",
      "Predicted Status: ON\n"
     ]
    },
    {
     "name": "stderr",
     "output_type": "stream",
     "text": [
      "C:\\Users\\Radcoflex-Purchase\\AppData\\Local\\Programs\\Python\\Python310\\lib\\site-packages\\sklearn\\base.py:493: UserWarning: X does not have valid feature names, but RandomForestClassifier was fitted with feature names\n",
      "  warnings.warn(\n"
     ]
    },
    {
     "name": "stdout",
     "output_type": "stream",
     "text": [
      "Exiting...\n"
     ]
    }
   ],
   "source": [
    "import serial\n",
    "import time\n",
    "\n",
    "arduino = serial.Serial('COM3', 9600, timeout=1)\n",
    "time.sleep(2)  # Wait for the connection to establish\n",
    "\n",
    "def read_data():\n",
    "    while True:\n",
    "        line = arduino.readline().decode('utf-8').strip()  # Read a line from the Arduino\n",
    "        if line:  # If there's something to read\n",
    "            print(line)\n",
    "            # Here you can add code to store the data as needed\n",
    "            # e.g., save to a file or database\n",
    "        values = line.split(',')\n",
    "        if len(values) == 3:  # Ensure there are exactly 3 values\n",
    "            soil_moisture, humidity, temperature = map(float, values)\n",
    "            \n",
    "        new_data = np.array([[soil_moisture, humidity, temperature]])\n",
    "        \n",
    "        predictions = rf_model.predict(new_data)\n",
    "                    \n",
    "                    # Output the predicted status\n",
    "        print(\"Predicted Status:\", predictions[0])\n",
    "        time.sleep(7)\n",
    "\n",
    "try:\n",
    "    read_data()\n",
    "except KeyboardInterrupt:\n",
    "    print(\"Exiting...\")\n",
    "finally:\n",
    "    arduino.close()\n"
   ]
  },
  {
   "cell_type": "code",
   "execution_count": null,
   "id": "0dc7f2c4",
   "metadata": {},
   "outputs": [],
   "source": []
  },
  {
   "cell_type": "markdown",
   "id": "4f73f547",
   "metadata": {},
   "source": [
    "svm"
   ]
  },
  {
   "cell_type": "code",
   "execution_count": 31,
   "id": "86897932",
   "metadata": {},
   "outputs": [
    {
     "name": "stdout",
     "output_type": "stream",
     "text": [
      "0.98,82.00,34.70\n",
      "Predicted Status: ON\n"
     ]
    },
    {
     "name": "stderr",
     "output_type": "stream",
     "text": [
      "C:\\Users\\Radcoflex-Purchase\\AppData\\Local\\Programs\\Python\\Python311\\Lib\\site-packages\\sklearn\\base.py:439: UserWarning: X does not have valid feature names, but SVC was fitted with feature names\n",
      "  warnings.warn(\n"
     ]
    },
    {
     "name": "stdout",
     "output_type": "stream",
     "text": [
      "0.20,82.00,34.70\n",
      "Predicted Status: ON\n"
     ]
    },
    {
     "name": "stderr",
     "output_type": "stream",
     "text": [
      "C:\\Users\\Radcoflex-Purchase\\AppData\\Local\\Programs\\Python\\Python311\\Lib\\site-packages\\sklearn\\base.py:439: UserWarning: X does not have valid feature names, but SVC was fitted with feature names\n",
      "  warnings.warn(\n",
      "C:\\Users\\Radcoflex-Purchase\\AppData\\Local\\Programs\\Python\\Python311\\Lib\\site-packages\\sklearn\\base.py:439: UserWarning: X does not have valid feature names, but SVC was fitted with feature names\n",
      "  warnings.warn(\n"
     ]
    },
    {
     "name": "stdout",
     "output_type": "stream",
     "text": [
      "Predicted Status: ON\n",
      "0.20,82.00,34.70\n",
      "Predicted Status: ON\n"
     ]
    },
    {
     "name": "stderr",
     "output_type": "stream",
     "text": [
      "C:\\Users\\Radcoflex-Purchase\\AppData\\Local\\Programs\\Python\\Python311\\Lib\\site-packages\\sklearn\\base.py:439: UserWarning: X does not have valid feature names, but SVC was fitted with feature names\n",
      "  warnings.warn(\n"
     ]
    },
    {
     "name": "stdout",
     "output_type": "stream",
     "text": [
      "0.20,81.00,34.70\n",
      "Predicted Status: ON\n"
     ]
    },
    {
     "name": "stderr",
     "output_type": "stream",
     "text": [
      "C:\\Users\\Radcoflex-Purchase\\AppData\\Local\\Programs\\Python\\Python311\\Lib\\site-packages\\sklearn\\base.py:439: UserWarning: X does not have valid feature names, but SVC was fitted with feature names\n",
      "  warnings.warn(\n"
     ]
    },
    {
     "name": "stdout",
     "output_type": "stream",
     "text": [
      "0.29,81.00,34.50\n",
      "Predicted Status: ON\n"
     ]
    },
    {
     "name": "stderr",
     "output_type": "stream",
     "text": [
      "C:\\Users\\Radcoflex-Purchase\\AppData\\Local\\Programs\\Python\\Python311\\Lib\\site-packages\\sklearn\\base.py:439: UserWarning: X does not have valid feature names, but SVC was fitted with feature names\n",
      "  warnings.warn(\n"
     ]
    },
    {
     "name": "stdout",
     "output_type": "stream",
     "text": [
      "0.20,81.00,34.20\n",
      "Predicted Status: ON\n"
     ]
    },
    {
     "name": "stderr",
     "output_type": "stream",
     "text": [
      "C:\\Users\\Radcoflex-Purchase\\AppData\\Local\\Programs\\Python\\Python311\\Lib\\site-packages\\sklearn\\base.py:439: UserWarning: X does not have valid feature names, but SVC was fitted with feature names\n",
      "  warnings.warn(\n"
     ]
    },
    {
     "name": "stdout",
     "output_type": "stream",
     "text": [
      "0.29,81.00,34.20\n",
      "Predicted Status: ON\n"
     ]
    },
    {
     "name": "stderr",
     "output_type": "stream",
     "text": [
      "C:\\Users\\Radcoflex-Purchase\\AppData\\Local\\Programs\\Python\\Python311\\Lib\\site-packages\\sklearn\\base.py:439: UserWarning: X does not have valid feature names, but SVC was fitted with feature names\n",
      "  warnings.warn(\n"
     ]
    },
    {
     "name": "stdout",
     "output_type": "stream",
     "text": [
      "0.20,81.00,34.20\n",
      "Predicted Status: ON\n"
     ]
    },
    {
     "name": "stderr",
     "output_type": "stream",
     "text": [
      "C:\\Users\\Radcoflex-Purchase\\AppData\\Local\\Programs\\Python\\Python311\\Lib\\site-packages\\sklearn\\base.py:439: UserWarning: X does not have valid feature names, but SVC was fitted with feature names\n",
      "  warnings.warn(\n"
     ]
    },
    {
     "name": "stdout",
     "output_type": "stream",
     "text": [
      "99.61,81.00,34.20\n",
      "Predicted Status: OFF\n"
     ]
    },
    {
     "name": "stderr",
     "output_type": "stream",
     "text": [
      "C:\\Users\\Radcoflex-Purchase\\AppData\\Local\\Programs\\Python\\Python311\\Lib\\site-packages\\sklearn\\base.py:439: UserWarning: X does not have valid feature names, but SVC was fitted with feature names\n",
      "  warnings.warn(\n"
     ]
    },
    {
     "name": "stdout",
     "output_type": "stream",
     "text": [
      "99.61,81.00,34.20\n",
      "Predicted Status: OFF\n"
     ]
    },
    {
     "name": "stderr",
     "output_type": "stream",
     "text": [
      "C:\\Users\\Radcoflex-Purchase\\AppData\\Local\\Programs\\Python\\Python311\\Lib\\site-packages\\sklearn\\base.py:439: UserWarning: X does not have valid feature names, but SVC was fitted with feature names\n",
      "  warnings.warn(\n",
      "C:\\Users\\Radcoflex-Purchase\\AppData\\Local\\Programs\\Python\\Python311\\Lib\\site-packages\\sklearn\\base.py:439: UserWarning: X does not have valid feature names, but SVC was fitted with feature names\n",
      "  warnings.warn(\n"
     ]
    },
    {
     "name": "stdout",
     "output_type": "stream",
     "text": [
      "Predicted Status: OFF\n",
      "99.41,81.00,34.20\n",
      "Predicted Status: OFF\n"
     ]
    },
    {
     "name": "stderr",
     "output_type": "stream",
     "text": [
      "C:\\Users\\Radcoflex-Purchase\\AppData\\Local\\Programs\\Python\\Python311\\Lib\\site-packages\\sklearn\\base.py:439: UserWarning: X does not have valid feature names, but SVC was fitted with feature names\n",
      "  warnings.warn(\n"
     ]
    },
    {
     "name": "stdout",
     "output_type": "stream",
     "text": [
      "0.29,81.00,34.20\n",
      "Predicted Status: ON\n"
     ]
    },
    {
     "name": "stderr",
     "output_type": "stream",
     "text": [
      "C:\\Users\\Radcoflex-Purchase\\AppData\\Local\\Programs\\Python\\Python311\\Lib\\site-packages\\sklearn\\base.py:439: UserWarning: X does not have valid feature names, but SVC was fitted with feature names\n",
      "  warnings.warn(\n"
     ]
    },
    {
     "name": "stdout",
     "output_type": "stream",
     "text": [
      "Exiting...\n"
     ]
    }
   ],
   "source": [
    "import serial\n",
    "import time\n",
    "\n",
    "arduino = serial.Serial('COM3', 9600, timeout=1)\n",
    "time.sleep(2)  # Wait for the connection to establish\n",
    "\n",
    "def read_data():\n",
    "    while True:\n",
    "        line = arduino.readline().decode('utf-8').strip()  # Read a line from the Arduino\n",
    "        if line:  # If there's something to read\n",
    "            print(line)\n",
    "        values = line.split(',')\n",
    "        if len(values) == 3:  # Ensure there are exactly 3 values\n",
    "            soil_moisture, humidity, temperature = map(float, values)\n",
    "            \n",
    "        new_data = np.array([[soil_moisture, humidity, temperature]])\n",
    "        \n",
    "        predictions = svc_model.predict(new_data)\n",
    "                    \n",
    "                    # Output the predicted status\n",
    "        print(\"Predicted Status:\", predictions[0])\n",
    "        time.sleep(7)\n",
    "\n",
    "try:\n",
    "    read_data()\n",
    "except KeyboardInterrupt:\n",
    "    print(\"Exiting...\")\n",
    "finally:\n",
    "    arduino.close()\n"
   ]
  },
  {
   "cell_type": "code",
   "execution_count": null,
   "id": "078869e5",
   "metadata": {},
   "outputs": [],
   "source": []
  },
  {
   "cell_type": "code",
   "execution_count": null,
   "id": "8d8296f9",
   "metadata": {},
   "outputs": [],
   "source": []
  },
  {
   "cell_type": "code",
   "execution_count": null,
   "id": "a6b5b2f5",
   "metadata": {},
   "outputs": [],
   "source": []
  }
 ],
 "metadata": {
  "kernelspec": {
   "display_name": "Python 3 (ipykernel)",
   "language": "python",
   "name": "python3"
  },
  "language_info": {
   "codemirror_mode": {
    "name": "ipython",
    "version": 3
   },
   "file_extension": ".py",
   "mimetype": "text/x-python",
   "name": "python",
   "nbconvert_exporter": "python",
   "pygments_lexer": "ipython3",
   "version": "3.12.4"
  }
 },
 "nbformat": 4,
 "nbformat_minor": 5
}
